{
 "cells": [
  {
   "cell_type": "markdown",
   "metadata": {},
   "source": [
    "# Energy System Modelling - Tutorial V.3"
   ]
  },
  {
   "cell_type": "markdown",
   "metadata": {},
   "source": [
    "Diesel can be produced via Fischer-Tropsch process from hydrogen and carbon dioxide. The necessary CO$_2$ can be captured from the atmosphere with direct air capture (DAC) and than be stored. \n",
    "\n",
    "Model the production of diesel via Fischer-Tropsch-process in PyPSA.  Build a pypsa model including transport and electricity demand. Add a store for hydrogen, gas and CO$_2$. Electricity can be generated with an Open-Cycle-gas turbine (OCGT) and for transport diesel cars can be used. All the diesel used during the investigated time period should also be produced via Fischer-Tropsch.\n",
    "\n",
    "This jupyter notebook is partially filled out. Parts marked with ```??``` need to be filled out"
   ]
  },
  {
   "cell_type": "code",
   "execution_count": 147,
   "metadata": {},
   "outputs": [],
   "source": [
    "import pypsa\n",
    "import numpy as np\n",
    "import pandas as pd\n",
    "import matplotlib.pyplot as plt\n",
    "plt.style.use('bmh')\n",
    "%matplotlib inline"
   ]
  },
  {
   "cell_type": "markdown",
   "metadata": {},
   "source": [
    "__(a) Read the demand (unit MWh) for electricity and transport from the csv file__ "
   ]
  },
  {
   "cell_type": "code",
   "execution_count": 148,
   "metadata": {},
   "outputs": [],
   "source": [
    "demand = pd.read_csv(??, index_col=0, parse_dates=[0])"
   ]
  },
  {
   "cell_type": "markdown",
   "metadata": {},
   "source": [
    "Plot the demand for electricity and transport."
   ]
  },
  {
   "cell_type": "code",
   "execution_count": 174,
   "metadata": {},
   "outputs": [],
   "source": [
    "??"
   ]
  },
  {
   "cell_type": "markdown",
   "metadata": {},
   "source": [
    "__How do you explaing the shape of the transport demand? (write your thoughts here)__"
   ]
  },
  {
   "cell_type": "markdown",
   "metadata": {},
   "source": [
    "??"
   ]
  },
  {
   "cell_type": "markdown",
   "metadata": {},
   "source": [
    "__(b) What is the meaning of ```e_cyclic```, ```e_initial``` and ```e_min_pu``` for the component store in the PyPSA syntax? (look in the [pypsa documentation](\"https://pypsa.readthedocs.io/en/latest/components.html#store\"), write your thoughts here)__"
   ]
  },
  {
   "cell_type": "markdown",
   "metadata": {},
   "source": [
    "??"
   ]
  },
  {
   "cell_type": "markdown",
   "metadata": {},
   "source": [
    "__(c) Create a pypsa network to model the production of synthetic fuels. To do so, allow multi-links__"
   ]
  },
  {
   "cell_type": "markdown",
   "metadata": {},
   "source": [
    "Allow pypsa component link to have multiple out- and inputs (see [pypsa documentation](https://pypsa.org/doc/components.html#link-with-multiple-outputs-or-inputs))"
   ]
  },
  {
   "cell_type": "code",
   "execution_count": 150,
   "metadata": {},
   "outputs": [],
   "source": [
    "override_component_attrs = pypsa.descriptors.Dict({k : v.copy() for k,v in pypsa.components.component_attrs.items()})\n",
    "override_component_attrs[\"Link\"].loc[\"bus2\"] = [\"string\",np.nan,np.nan,\"2nd bus\",\"Input (optional)\"]\n",
    "override_component_attrs[\"Link\"].loc[\"bus3\"] = [\"string\",np.nan,np.nan,\"3rd bus\",\"Input (optional)\"]\n",
    "override_component_attrs[\"Link\"].loc[\"efficiency2\"] = [\"static or series\",\"per unit\",1.,\"2nd bus efficiency\",\"Input (optional)\"]\n",
    "override_component_attrs[\"Link\"].loc[\"efficiency3\"] = [\"static or series\",\"per unit\",1.,\"3rd bus efficiency\",\"Input (optional)\"]\n",
    "override_component_attrs[\"Link\"].loc[\"p2\"] = [\"series\",\"MW\",0.,\"2nd bus output\",\"Output\"]\n",
    "override_component_attrs[\"Link\"].loc[\"p3\"] = [\"series\",\"MW\",0.,\"3rd bus output\",\"Output\"]"
   ]
  },
  {
   "cell_type": "code",
   "execution_count": 151,
   "metadata": {},
   "outputs": [],
   "source": [
    "n = pypsa.Network(override_component_attrs=override_component_attrs)"
   ]
  },
  {
   "cell_type": "markdown",
   "metadata": {},
   "source": [
    "Set the snapshots as the index of the demand time series\n"
   ]
  },
  {
   "cell_type": "code",
   "execution_count": 175,
   "metadata": {},
   "outputs": [
    {
     "ename": "SyntaxError",
     "evalue": "invalid syntax (<ipython-input-175-6516f4f1eb6b>, line 1)",
     "output_type": "error",
     "traceback": [
      "\u001b[0;36m  File \u001b[0;32m\"<ipython-input-175-6516f4f1eb6b>\"\u001b[0;36m, line \u001b[0;32m1\u001b[0m\n\u001b[0;31m    n.set_snapshots(??)\u001b[0m\n\u001b[0m                    ^\u001b[0m\n\u001b[0;31mSyntaxError\u001b[0m\u001b[0;31m:\u001b[0m invalid syntax\n"
     ]
    }
   ],
   "source": [
    "n.set_snapshots(??)"
   ]
  },
  {
   "cell_type": "markdown",
   "metadata": {},
   "source": [
    "Add a bus and the corresponding load for the carriers transport, electricity"
   ]
  },
  {
   "cell_type": "code",
   "execution_count": 153,
   "metadata": {},
   "outputs": [],
   "source": [
    "# electric bus + load\n",
    "n.add(\"Bus\",\n",
    "      \"electric\")\n",
    "\n",
    "n.add(\"Load\",\n",
    "      \"electric\",\n",
    "      bus=\"electric\",\n",
    "      p_set=demand[\"electricity\"])\n",
    "\n",
    "# transport bus + load \n",
    "n.add(\"Bus\",\n",
    "      \"transport\")\n",
    "\n",
    "n.add(\"Load\",\n",
    "      \"transport\",\n",
    "      bus=??,\n",
    "      p_set=??)\n"
   ]
  },
  {
   "cell_type": "markdown",
   "metadata": {},
   "source": [
    "Add a bus for hydrogen, gas and diesel and a corresponding store\n"
   ]
  },
  {
   "cell_type": "code",
   "execution_count": 154,
   "metadata": {},
   "outputs": [],
   "source": [
    "# hydrogen \n",
    "n.add(\"Bus\",\n",
    "      \"hydrogen\")\n",
    "\n",
    "n.add(\"Store\",\n",
    "      \"hydrogen\",\n",
    "      bus=\"hydrogen\",\n",
    "      e_nom=3e5,\n",
    "      e_initial=3e5,\n",
    "      marginal_cost=??)\n",
    "\n",
    "# gas\n",
    "n.add(\"Bus\",\n",
    "      \"gas\")\n",
    "\n",
    "n.add(\"Store\",\n",
    "      \"gas\",\n",
    "      bus=??,\n",
    "      e_nom=??,\n",
    "      e_initial=??,\n",
    "      marginal_cost=??)\n",
    "\n",
    "# diesel\n",
    "n.add(\"Bus\",\n",
    "      \"diesel\")\n",
    "\n",
    "n.add(\"Store\",\n",
    "      \"diesel\",\n",
    "      bus=\"diesel\",\n",
    "      e_cyclic=??,\n",
    "      e_nom_extendable=True)\n"
   ]
  },
  {
   "cell_type": "markdown",
   "metadata": {},
   "source": [
    "The CO2 can be stored (for example in [underground caverns](https://en.wikipedia.org/wiki/Carbon_capture_and_storage#Geological_storage)). To model CO2 storage we have to keep track of the CO2\n",
    "which is emitted to the atmosphere. Therefore we add a bus and a storage for the CO2 in the atmosphere \n",
    "and the stored CO2. The storage energy in our model can also become negative, e.g. if more CO2 is removed from the atmosphere than what there was initially. The storage capacity should be optimised."
   ]
  },
  {
   "cell_type": "code",
   "execution_count": 155,
   "metadata": {},
   "outputs": [],
   "source": [
    "# minus sign because opposite to how fossil fuels used:\n",
    "# CH4 burning puts CH4 down, atmosphere up\n",
    "n.add(\"Carrier\",\n",
    "      \"co2\",\n",
    "      co2_emissions=-1.)\n",
    "\n",
    "# CO2 in the atmosphere\n",
    "n.add(\"Bus\",\n",
    "      \"co2 atmosphere\",\n",
    "      carrier=\"co2\")\n",
    "\n",
    "n.add(\"Store\",\n",
    "      \"co2 atmosphere\",\n",
    "      bus=\"co2 atmosphere\",\n",
    "      e_min_pu=??,\n",
    "      e_nom_extendable=True)\n",
    "\n",
    "# CO2 stored\n",
    "n.add(\"Bus\",\n",
    "      \"co2 stored\")\n",
    "\n",
    "n.add(\"Store\",\n",
    "      \"co2 stored\",\n",
    "      bus=\"co2 stored\",\n",
    "      e_min_pu=??,\n",
    "      capital_cost=??,\n",
    "      e_nom_extendable=??,)"
   ]
  },
  {
   "cell_type": "markdown",
   "metadata": {},
   "source": [
    "Add the possibility of [Direct Air Capture (DAC)](https://en.wikipedia.org/wiki/Direct_air_capture) of CO2 by adding a PyPSA link. The CO2 is captured from the atmosphere and stored."
   ]
  },
  {
   "cell_type": "code",
   "execution_count": 156,
   "metadata": {},
   "outputs": [],
   "source": [
    "# Direct Air Capture (DAC)\n",
    "n.add(\"Link\",\n",
    "      \"DAC\",\n",
    "      bus0=\"co2 atmosphere\",\n",
    "      bus1=??,\n",
    "      efficiency=1,\n",
    "      marginal_cost=??,\n",
    "      p_nom_extendable=True)"
   ]
  },
  {
   "cell_type": "markdown",
   "metadata": {},
   "source": [
    "__Why do we need to keep track of the CO2 by adding a bus and store for the CO2 in the atmosphere?__"
   ]
  },
  {
   "cell_type": "markdown",
   "metadata": {},
   "source": [
    "??"
   ]
  },
  {
   "cell_type": "markdown",
   "metadata": {},
   "source": [
    "Add diesel cars to satisfy the transport demand using a multi-link"
   ]
  },
  {
   "cell_type": "code",
   "execution_count": 157,
   "metadata": {},
   "outputs": [],
   "source": [
    "# diesel car\n",
    "n.add(\"Link\",\n",
    "      \"diesel car\",\n",
    "      bus0=\"diesel\",\n",
    "      bus1=??,\n",
    "      bus2=\"co2 atmosphere\",\n",
    "      efficiency=1.,\n",
    "      efficiency2=1.,\n",
    "      p_nom_extendable=True)"
   ]
  },
  {
   "cell_type": "markdown",
   "metadata": {},
   "source": [
    "Add a open-cyclce gas turbine (OCGT) to satisfy the electricity demand"
   ]
  },
  {
   "cell_type": "code",
   "execution_count": 158,
   "metadata": {},
   "outputs": [],
   "source": [
    "# OCGT\n",
    "n.add(\"Link\",\n",
    "      \"OCGT\",\n",
    "      bus0=??,\n",
    "      bus1=\"electric\",\n",
    "      bus2=\"co2 atmosphere\",\n",
    "      efficiency=0.5,\n",
    "      efficiency2=1,\n",
    "      capital_cost=??,\n",
    "      marginal_cost=??,\n",
    "      p_nom_extendable=True)"
   ]
  },
  {
   "cell_type": "markdown",
   "metadata": {},
   "source": [
    "Diesel can be produced from H2 and CO2 via [Fischer-Tropsch](https://en.wikipedia.org/wiki/Fischer%E2%80%93Tropsch_process).\n",
    "Add a link which represents this process"
   ]
  },
  {
   "cell_type": "code",
   "execution_count": 159,
   "metadata": {},
   "outputs": [],
   "source": [
    "n.add(\"Link\",\n",
    "      \"Fischer-Tropsch\",\n",
    "      bus0=??,\n",
    "      bus1=\"diesel\",\n",
    "      bus2=\"co2 stored\",\n",
    "      efficiency=1.,\n",
    "      efficiency2=-1,\n",
    "      capital_cost=??,\n",
    "      p_nom_extendable=True)"
   ]
  },
  {
   "cell_type": "markdown",
   "metadata": {},
   "source": [
    "__(d) Run an investment optimisation__"
   ]
  },
  {
   "cell_type": "code",
   "execution_count": 176,
   "metadata": {},
   "outputs": [],
   "source": [
    "??"
   ]
  },
  {
   "cell_type": "markdown",
   "metadata": {},
   "source": [
    "__(d)(i) Show that the total amount of CO2 in the system stays constant__"
   ]
  },
  {
   "cell_type": "code",
   "execution_count": 178,
   "metadata": {},
   "outputs": [],
   "source": [
    "??"
   ]
  },
  {
   "cell_type": "markdown",
   "metadata": {},
   "source": [
    "__(d)(ii) Plot the energy difference in the plots. You can use the pandas function ```diff()```__"
   ]
  },
  {
   "cell_type": "code",
   "execution_count": 177,
   "metadata": {},
   "outputs": [],
   "source": [
    "??"
   ]
  },
  {
   "cell_type": "markdown",
   "metadata": {},
   "source": [
    "__(d)(iii) What are the total system costs?__"
   ]
  },
  {
   "cell_type": "code",
   "execution_count": 179,
   "metadata": {},
   "outputs": [],
   "source": [
    "??"
   ]
  },
  {
   "cell_type": "markdown",
   "metadata": {},
   "source": [
    "__(e) Now add an constraint for the CO2 content in the atmosphere in the last time step to zero and rerun the investment optimisation (see also in PyPSA [documentation](\"https://pypsa.readthedocs.io/en/latest/components.html#global-constraints\") ```GlobalConstraint```)__"
   ]
  },
  {
   "cell_type": "code",
   "execution_count": null,
   "metadata": {},
   "outputs": [],
   "source": [
    "limit = ??\n",
    "n.add(\"GlobalConstraint\",\n",
    "      \"co2_limit\",\n",
    "      sense=\"<=\",\n",
    "      carrier_attribute=\"co2_emissions\",\n",
    "      constant=limit)"
   ]
  },
  {
   "cell_type": "code",
   "execution_count": 180,
   "metadata": {},
   "outputs": [],
   "source": [
    "# run investment optimisation\n",
    "??"
   ]
  },
  {
   "cell_type": "markdown",
   "metadata": {},
   "source": [
    "__How large are the total system costs now?__"
   ]
  },
  {
   "cell_type": "code",
   "execution_count": 181,
   "metadata": {},
   "outputs": [],
   "source": [
    "??"
   ]
  },
  {
   "cell_type": "markdown",
   "metadata": {},
   "source": [
    "__How much CO2 storage capacity is necessary?__"
   ]
  },
  {
   "cell_type": "code",
   "execution_count": 182,
   "metadata": {},
   "outputs": [],
   "source": [
    "??"
   ]
  },
  {
   "cell_type": "markdown",
   "metadata": {},
   "source": [
    "__(f) Add electric cars to the problem (using a PyPSA \"Link\" and the given efficiency) and solve the optimisation problem again. How large is the share of electric cars?__"
   ]
  },
  {
   "cell_type": "code",
   "execution_count": null,
   "metadata": {},
   "outputs": [],
   "source": [
    "# electric car\n",
    "n.add(\"Link\",\n",
    "      \"electric car\",\n",
    "      bus0=??,\n",
    "      bus1=??,\n",
    "      efficiency=0.9,\n",
    "      p_nom_extendable=True)"
   ]
  },
  {
   "cell_type": "code",
   "execution_count": 184,
   "metadata": {},
   "outputs": [],
   "source": [
    "# run optimisation\n",
    "??\n",
    "# check link capacity"
   ]
  },
  {
   "cell_type": "markdown",
   "metadata": {},
   "source": [
    "__(g) Now add the possibility to generate electricity with an onshore wind turbine. The time serie for the wind turbine is given in the data folder (wind_time_series.csv) and run the optimisation again. How large is the share of electric cars now?__"
   ]
  },
  {
   "cell_type": "code",
   "execution_count": 185,
   "metadata": {},
   "outputs": [
    {
     "ename": "SyntaxError",
     "evalue": "invalid syntax (<ipython-input-185-4fa908a003e5>, line 1)",
     "output_type": "error",
     "traceback": [
      "\u001b[0;36m  File \u001b[0;32m\"<ipython-input-185-4fa908a003e5>\"\u001b[0;36m, line \u001b[0;32m1\u001b[0m\n\u001b[0;31m    wind_timeseries = pd.read_csv(??)\u001b[0m\n\u001b[0m                                  ^\u001b[0m\n\u001b[0;31mSyntaxError\u001b[0m\u001b[0;31m:\u001b[0m invalid syntax\n"
     ]
    }
   ],
   "source": [
    "wind_timeseries = pd.read_csv(??)\n",
    "\n",
    "n.add(\"Generator\",\n",
    "      \"onwind\",\n",
    "      bus=??,\n",
    "      p_nom_extendable=True,\n",
    "      capital_cost=??,\n",
    "      p_max_pu=??)"
   ]
  },
  {
   "cell_type": "code",
   "execution_count": 186,
   "metadata": {},
   "outputs": [],
   "source": [
    "# run investment optimisation\n",
    "??"
   ]
  },
  {
   "cell_type": "code",
   "execution_count": 187,
   "metadata": {},
   "outputs": [],
   "source": [
    "# compare share of electric and diesel cars\n",
    "??"
   ]
  },
  {
   "cell_type": "code",
   "execution_count": null,
   "metadata": {},
   "outputs": [],
   "source": []
  }
 ],
 "metadata": {
  "kernelspec": {
   "display_name": "Python 3",
   "language": "python",
   "name": "python3"
  },
  "language_info": {
   "codemirror_mode": {
    "name": "ipython",
    "version": 3
   },
   "file_extension": ".py",
   "mimetype": "text/x-python",
   "name": "python",
   "nbconvert_exporter": "python",
   "pygments_lexer": "ipython3",
   "version": "3.8.2"
  }
 },
 "nbformat": 4,
 "nbformat_minor": 4
}
