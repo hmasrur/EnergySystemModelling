{
 "cells": [
  {
   "cell_type": "markdown",
   "metadata": {},
   "source": [
    "# Energy System Modelling - Tutorial I.2\n",
    "\n",
    "Karlsruhe Institute of Technology, Institute for Automation and Applied Informatics\n",
    "***"
   ]
  },
  {
   "cell_type": "markdown",
   "metadata": {},
   "source": [
    "> **Note:** This can actually be solved analytically. First try without coding."
   ]
  },
  {
   "cell_type": "markdown",
   "metadata": {},
   "source": [
    "We use approximations to seasonal variations of wind and solar power generation $W(t)$\n",
    "and $S(t)$ and load $L(t)$:\n",
    "$$W(t) = 1 + A_W \\cos \\omega t$$\n",
    "$$S(t) = 1 - A_S \\cos \\omega t$$\n",
    "$$L(t) = 1 + A_L \\cos \\omega t$$\n",
    "\n",
    "The time series are normalized to $\\langle{W}\\rangle = \\langle{S}\\rangle = \\langle{L}\\rangle := \\frac{1}{T} \\int_0^T L(t)\n",
    "d t = 1$, and the constants have the values\n",
    "\n",
    "$$\\omega = \\frac{2\\pi}{T} $$\n",
    "$$T = 1 \\text{ year}$$\n",
    "$$ A_W = 0.4 $$ $$ A_S = 0.75 $$ $$ A_L = 0.1 $$"
   ]
  },
  {
   "cell_type": "markdown",
   "metadata": {},
   "source": [
    "## Imports"
   ]
  },
  {
   "cell_type": "code",
   "execution_count": 2,
   "metadata": {},
   "outputs": [],
   "source": [
    "import numpy as np\n",
    "import matplotlib.pyplot as plt\n",
    "import scipy.integrate as integrate\n",
    "from scipy.optimize import minimize\n",
    "%matplotlib inline"
   ]
  },
  {
   "cell_type": "markdown",
   "metadata": {},
   "source": [
    "## Parameters"
   ]
  },
  {
   "cell_type": "code",
   "execution_count": 30,
   "metadata": {},
   "outputs": [],
   "source": [
    "A_w = 0.4\n",
    "A_s = 0.75\n",
    "A_l = 0.1\n",
    "T = 1\n",
    "phi = 0"
   ]
  },
  {
   "cell_type": "markdown",
   "metadata": {},
   "source": [
    "## Functions"
   ]
  },
  {
   "cell_type": "markdown",
   "metadata": {},
   "source": [
    "> **Remark:** The `lambda` operator is a way to create small anonymous functions, i.e. functions without a name, in Python. "
   ]
  },
  {
   "cell_type": "code",
   "execution_count": 4,
   "metadata": {},
   "outputs": [],
   "source": [
    "def w(t, phi=0):\n",
    "    return 1 + A_w * np.cos(2*t*np.pi/T-phi)"
   ]
  },
  {
   "cell_type": "code",
   "execution_count": 5,
   "metadata": {},
   "outputs": [],
   "source": [
    "def s(t):\n",
    "    return 1 - A_s * np.cos(2*t*np.pi/T)"
   ]
  },
  {
   "cell_type": "code",
   "execution_count": 6,
   "metadata": {},
   "outputs": [],
   "source": [
    "def l(t):\n",
    "    return 1 + A_l * np.cos(2*t*np.pi/T)"
   ]
  },
  {
   "cell_type": "code",
   "execution_count": 14,
   "metadata": {},
   "outputs": [],
   "source": [
    "def c(gamma):\n",
    "    return 1 - gamma"
   ]
  },
  {
   "cell_type": "code",
   "execution_count": 31,
   "metadata": {},
   "outputs": [],
   "source": [
    "def mismatch(???):\n",
    "    return ???"
   ]
  },
  {
   "cell_type": "code",
   "execution_count": 34,
   "metadata": {},
   "outputs": [],
   "source": [
    "def objective(alpha):\n",
    "    return 1/T * integrate.quad(lambda t: mismatch(???)**2, 0, T)[0]"
   ]
  },
  {
   "cell_type": "markdown",
   "metadata": {},
   "source": [
    "## Plots"
   ]
  },
  {
   "cell_type": "code",
   "execution_count": 12,
   "metadata": {},
   "outputs": [],
   "source": [
    "x = np.arange(0,1,0.01)"
   ]
  },
  {
   "cell_type": "markdown",
   "metadata": {},
   "source": [
    "Availability time series as shown on the worksheet."
   ]
  },
  {
   "cell_type": "code",
   "execution_count": 13,
   "metadata": {},
   "outputs": [
    {
     "data": {
      "image/png": "[encoded data removed]",
      "text/plain": [
       "<Figure size 432x288 with 1 Axes>"
      ]
     },
     "metadata": {},
     "output_type": "display_data"
    }
   ],
   "source": [
    "wind = plt.plot(x, w(x), label='wind')\n",
    "solar = plt.plot(x, s(x), label='solar')\n",
    "load = plt.plot(x, l(x), label='load')\n",
    "plt.legend()\n",
    "plt.show()"
   ]
  },
  {
   "cell_type": "markdown",
   "metadata": {},
   "source": [
    "## Problem I.2"
   ]
  },
  {
   "cell_type": "markdown",
   "metadata": {},
   "source": [
    "***\n",
    "**(a) What is the seasonal optimal mix $\\alpha$, which minimizes**\n",
    "$$\\langle\\left[ \\alpha W(\\cdot) + (1-\\alpha) S(\\cdot) - L(\\cdot) \\right]^2 \\rangle = \\frac1T \\int_0^T \\left[ \\alpha W(t) + (1-\\alpha) S(t) - L(t) \\right]^2 \\,\\mathrm d t$$\n",
    "> **Hint:** You can use the function [`scipy.optimize.minimize`](https://docs.scipy.org/doc/scipy-1.0.0/reference/generated/scipy.optimize.minimize.html) and use e.g. [`method='nelder-mead'`](https://en.wikipedia.org/wiki/Nelder%E2%80%93Mead_method)."
   ]
  },
  {
   "cell_type": "code",
   "execution_count": null,
   "metadata": {},
   "outputs": [],
   "source": []
  },
  {
   "cell_type": "markdown",
   "metadata": {},
   "source": [
    "***\n",
    "**(b) How does the optimal mix change if we replace $A_L \\to -A_L$?**"
   ]
  },
  {
   "cell_type": "code",
   "execution_count": 22,
   "metadata": {},
   "outputs": [],
   "source": []
  },
  {
   "cell_type": "markdown",
   "metadata": {},
   "source": [
    "***\n",
    "**(c) Now assume that there is a seasonal shift in the wind signal\n",
    "$$ W(t) = 1 + A_W \\cos \\left( \\omega t - \\phi \\right).$$\n",
    "Express the optimal mix $\\alpha$ as a function of $\\phi$.**\n",
    "> **Remark:** Note, that $\\alpha\\in [0,1]$ and you need to add this as bounds.\n",
    "\n",
    "> **Hint:** If you encounter problems (why?), try another optimisation algorithm [`method='TNC'`](https://en.wikipedia.org/wiki/Truncated_Newton_method)"
   ]
  },
  {
   "cell_type": "code",
   "execution_count": null,
   "metadata": {},
   "outputs": [],
   "source": []
  },
  {
   "cell_type": "markdown",
   "metadata": {},
   "source": [
    "***\n",
    "**(d) A constant conventional power source $C(t) = 1 - \\gamma$ is now introduced. The mismatch then becomes\n",
    "$$\\Delta(t) = \\gamma \\left[ \\alpha W(t) + (1-\\alpha) S(t) \\right] + C(t) - L(t)$$\n",
    "Analogously to (a), find the optimal mix $\\alpha$ as a function of $0 \\leq \\gamma \\leq 1$, which minimizes $\\langle{\\Delta^2}\\rangle$.**"
   ]
  },
  {
   "cell_type": "code",
   "execution_count": null,
   "metadata": {},
   "outputs": [],
   "source": []
  }
 ],
 "metadata": {
  "kernelspec": {
   "display_name": "Python 3",
   "language": "python",
   "name": "python3"
  },
  "language_info": {
   "codemirror_mode": {
    "name": "ipython",
    "version": 3
   },
   "file_extension": ".py",
   "mimetype": "text/x-python",
   "name": "python",
   "nbconvert_exporter": "python",
   "pygments_lexer": "ipython3",
   "version": "3.7.3"
  },
  "varInspector": {
   "cols": {
    "lenName": 16,
    "lenType": 16,
    "lenVar": 40
   },
   "kernels_config": {
    "python": {
     "delete_cmd_postfix": "",
     "delete_cmd_prefix": "del ",
     "library": "var_list.py",
     "varRefreshCmd": "print(var_dic_list())"
    },
    "r": {
     "delete_cmd_postfix": ") ",
     "delete_cmd_prefix": "rm(",
     "library": "var_list.r",
     "varRefreshCmd": "cat(var_dic_list()) "
    }
   },
   "types_to_exclude": [
    "module",
    "function",
    "builtin_function_or_method",
    "instance",
    "_Feature"
   ],
   "window_display": false
  }
 },
 "nbformat": 4,
 "nbformat_minor": 2
}
