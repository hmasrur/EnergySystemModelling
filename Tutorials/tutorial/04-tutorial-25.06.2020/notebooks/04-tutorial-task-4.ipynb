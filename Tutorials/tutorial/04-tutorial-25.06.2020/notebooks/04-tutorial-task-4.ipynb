{
 "cells": [
  {
   "cell_type": "markdown",
   "metadata": {},
   "source": [
    "# Energy System Modelling - Tutorial IV.4\n",
    "\n",
    "**Generator dispatch with SciGRID**\n",
    "\n",
    "[SciGRID](https://www.scigrid.de/pages/general-information.html) is a project that provides an open source reference model of the European transmission networks. In this tutorial, other than previous simple examples, you will examine the economic dispatch of generators all over Germany and its effect on the power system. The data files for this example and a populated Jupyter notebook are provided in `./data`.\n",
    "\n",
    "The dataset comprises time series for loads and the availability of renewable generation at an hourly resolution for the year 2011. Feel free to choose a day to your liking; we will later discuss your different outcomes in groups. A few days might be of particular interest:\n",
    "* `2011-01-31` was the least windy day of 2011\n",
    "* `2011-02-05` was a stormy day with lots of wind energy production,\n",
    "* `2011-07-12` the weather 7 years ago was a very sunny day, and\n",
    "* `2011-09-06` was a windy *and* sunny autumn day."
   ]
  },
  {
   "cell_type": "markdown",
   "metadata": {},
   "source": [
    "***\n",
    "## Data sources\n",
    "\n",
    "* The **grid** is based on [SciGRID](http://scigrid.de/) Version 0.2 which is based on [OpenStreetMap](http://www.openstreetmap.org/).\n",
    "\n",
    "* The **load size and location** is based on Landkreise (NUTS 3), GDP and population.\n",
    "\n",
    "* The **load time series** is from ENTSO-E hourly data, scaled up uniformly by factor 1.12 (a simplification of the methodology in Schumacher, Hirth (2015)).\n",
    "\n",
    "* **Conventional power plant capacities and locations** are taken from the BNetzA list.\n",
    "\n",
    "* **Wind and solar capacities and locations** are retrieved from [EEG Stammdaten](http://www.energymap.info/download.html), which represents capacities at the end of 2014. Units without PLZ are removed.\n",
    "\n",
    "* **Wind and solar time series** are derived from REatlas, Andresen et al, \"Validation of Danish wind time series from a new global renewable energy atlas for energy system analysis,\" Energy 93 (2015) 1074 - 1088.\n",
    "\n",
    "* All times in the dataset are UTC.\n",
    "\n",
    "* Where SciGRID nodes have been split into 220kV and 380kV substations, all load and generation is attached to the 220kV substation."
   ]
  },
  {
   "cell_type": "markdown",
   "metadata": {},
   "source": [
    "## Disclaimer\n",
    "\n",
    "There are several known problems and inaccuracy that limit the suitability of this example for research purposes. These include:\n",
    "\n",
    "* Rough approximations have been made for missing grid data, e.g. 220kV-380kV transformers and connections between close sub-stations missing from OSM.\n",
    "\n",
    "* There appears to be some unexpected congestion in parts of the network, which may mean for example that the load attachment method (by Voronoi cell overlap with Landkreise) isn't working, particularly in regions with a high density of substations.\n",
    "\n",
    "* Attaching power plants to the nearest high voltage substation may not reflect reality.\n",
    "\n",
    "* There is no proper n-1 security in the calculations - this can either be simulated with a blanket e.g. 70% reduction in thermal limits (as done here) or a proper [security constrained OPF](http://www.pypsa.org/examples/scigrid-sclopf.ipynb).\n",
    "\n",
    "* The borders and neighbouring countries are not represented.\n",
    "\n",
    "* Hydroelectric power stations are not modelled accurately.\n",
    "\n",
    "* The marginal costs are illustrative, not accurate.\n",
    "\n",
    "* The ENTSO-E total load for Germany may not be scaled correctly; it is scaled up uniformly by factor 1.12 (a simplification of the methodology in Schumacher, Hirth (2015), which suggests monthly factors).\n",
    "\n",
    "* Biomass from the EEG Stammdaten are not read in at the moment.\n",
    "\n",
    "* Power plant start up costs, ramping limits/costs, minimum loading rates are not considered."
   ]
  },
  {
   "cell_type": "markdown",
   "metadata": {},
   "source": [
    "***\n",
    "## Imports"
   ]
  },
  {
   "cell_type": "code",
   "execution_count": 6,
   "metadata": {},
   "outputs": [],
   "source": [
    "#make the code as Python 3 compatible as possible\n",
    "#from __future__ import print_function, division, absolute_import\n",
    "import pypsa\n",
    "import numpy as np\n",
    "import pandas as pd\n",
    "import os\n",
    "import matplotlib.pyplot as plt\n",
    "import cartopy.crs as ccrs\n",
    "plt.rcParams['figure.dpi']= 400\n",
    "plt.style.use('ggplot')\n",
    "%matplotlib inline"
   ]
  },
  {
   "cell_type": "markdown",
   "metadata": {},
   "source": [
    "## Parameters"
   ]
  },
  {
   "cell_type": "markdown",
   "metadata": {},
   "source": [
    "Some general settings:"
   ]
  },
  {
   "cell_type": "code",
   "execution_count": 7,
   "metadata": {},
   "outputs": [],
   "source": [
    "solver_name = \"glpk\"\n",
    "contingency_factor = 0.7\n",
    "group_size = 4\n",
    "import_name = \"data\""
   ]
  },
  {
   "cell_type": "markdown",
   "metadata": {},
   "source": [
    "Specify the day you wish to look at here (any day in 2011):"
   ]
  },
  {
   "cell_type": "code",
   "execution_count": 8,
   "metadata": {},
   "outputs": [],
   "source": [
    "day = \"2011-01-01\""
   ]
  },
  {
   "cell_type": "markdown",
   "metadata": {},
   "source": [
    "Some settings for plotting:"
   ]
  },
  {
   "cell_type": "code",
   "execution_count": 9,
   "metadata": {},
   "outputs": [],
   "source": [
    "timesteps = np.arange(0,24,4)\n",
    "\n",
    "n_graphs = len(timesteps)\n",
    "n_cols = 3\n",
    "\n",
    "if n_graphs % n_cols == 0:\n",
    "    n_rows = n_graphs // n_cols\n",
    "else:\n",
    "    n_rows = n_graphs // n_cols + 1\n",
    "    \n",
    "size = 6 # inches"
   ]
  },
  {
   "cell_type": "markdown",
   "metadata": {},
   "source": [
    "## Read Data"
   ]
  },
  {
   "cell_type": "code",
   "execution_count": 10,
   "metadata": {},
   "outputs": [
    {
     "name": "stderr",
     "output_type": "stream",
     "text": [
      "WARNING:pypsa.io:\n",
      "Importing PyPSA from older version of PyPSA than current version 0.17.0.\n",
      "Please read the release notes at https://pypsa.org/doc/release_notes.html\n",
      "carefully to prepare your network for import.\n",
      "\n",
      "INFO:pypsa.io:Imported network data has buses, generators, lines, loads, storage_units, transformers\n"
     ]
    }
   ],
   "source": [
    "network = pypsa.Network(import_name=import_name)"
   ]
  },
  {
   "cell_type": "markdown",
   "metadata": {},
   "source": [
    "There are some infeasibilities without allowing extension."
   ]
  },
  {
   "cell_type": "code",
   "execution_count": 11,
   "metadata": {},
   "outputs": [],
   "source": [
    "network.lines[\"s_nom_original\"] = network.lines.s_nom\n",
    "\n",
    "# extendable, but no reduction of line capacities\n",
    "network.lines.s_nom_extendable = True\n",
    "network.lines.s_nom_min = network.lines.s_nom\n",
    "\n",
    "network.lines.capital_cost = 9999999 # EUR/MVA/km - prohibitively high penalty"
   ]
  },
  {
   "cell_type": "markdown",
   "metadata": {},
   "source": [
    "Set network snapshots to chosen day."
   ]
  },
  {
   "cell_type": "code",
   "execution_count": 17,
   "metadata": {},
   "outputs": [],
   "source": [
    "network.set_snapshots(pd.date_range(start=day+' 00:00:00', end=day+' 23:00:00', freq='H'))"
   ]
  },
  {
   "cell_type": "markdown",
   "metadata": {},
   "source": [
    "***\n",
    "## (a) Describe the network as well as its regional and temporal characteristics."
   ]
  },
  {
   "cell_type": "markdown",
   "metadata": {},
   "source": [
    "### (a)-(i) | Plot the aggregated load curve."
   ]
  },
  {
   "cell_type": "code",
   "execution_count": null,
   "metadata": {},
   "outputs": [],
   "source": [
    "# TASK\n",
    "???"
   ]
  },
  {
   "cell_type": "markdown",
   "metadata": {},
   "source": [
    "### (a)-(ii) | Plot the total generation capacities grouped by generation technology. Why is the share of capacity for renewables higher than the share of electricity produced?\n",
    "> **Hint:** Use the pandas functions `groupby`."
   ]
  },
  {
   "cell_type": "code",
   "execution_count": null,
   "metadata": {},
   "outputs": [],
   "source": [
    "fig, ax = plt.subplots(figsize=(16,6))\n",
    "\n",
    "# TASK\n",
    "???"
   ]
  },
  {
   "cell_type": "markdown",
   "metadata": {},
   "source": [
    "### (a)-(iii) | Plot the regional distribution of the loads for different snapshots. What are the major load centres?"
   ]
  },
  {
   "cell_type": "code",
   "execution_count": null,
   "metadata": {},
   "outputs": [],
   "source": [
    "fig, axes = plt.subplots(nrows=n_rows, ncols=n_cols,\n",
    "                         figsize=(size*n_cols,size*n_rows),\n",
    "                        subplot_kw={\"projection\":ccrs.PlateCarree()})\n",
    "\n",
    "for i,timestep in enumerate(timesteps):\n",
    "    i_row = i // n_cols\n",
    "    i_col = i % n_cols\n",
    "    \n",
    "    ax = axes[i_row,i_col]\n",
    "    \n",
    "    # TASK\n",
    "    load_distribution = ???\n",
    "    \n",
    "    network.plot(bus_sizes=0.2*load_distribution,\n",
    "                 ax=ax,title=\"Load distribution\",\n",
    "                 bus_colors='navy',\n",
    "                 line_colors='firebrick',\n",
    "                 color_geomap=True)\n",
    "    \n",
    "    ax.set_title(timestep)"
   ]
  },
  {
   "cell_type": "markdown",
   "metadata": {},
   "source": [
    "### (a)-(iv) | Plot the regional distribution of generation technologies. Comment on what you see.\n",
    "\n",
    "> **Hint:** Use the pandas functions `groupby` and `reindex`."
   ]
  },
  {
   "cell_type": "code",
   "execution_count": null,
   "metadata": {},
   "outputs": [],
   "source": [
    "techs = [\"Brown Coal\",\"Hard Coal\",\"Oil\",\"Gas\",\n",
    "         \"Wind Offshore\",\"Wind Onshore\",\"Solar\",\"Waste\",\n",
    "         \"Nuclear\",\"Storage Hydro\",\"Run of River\", \"Geothermal\"]\n",
    "\n",
    "\n",
    "n_graphs_g = len(techs)\n",
    "\n",
    "n_cols_g = 3\n",
    "\n",
    "if n_graphs_g % n_cols_g == 0:\n",
    "    n_rows_g = n_graphs_g // n_cols_g\n",
    "else:\n",
    "    n_rows_g = n_graphs_g // n_cols_g + 1\n",
    "\n",
    "width_factor = 4\n",
    "height_factor = 4\n",
    "\n",
    "fig, axes = plt.subplots(nrows=n_rows_g, ncols=n_cols_g,\n",
    "                         figsize=(width_factor*n_cols_g,height_factor*n_rows_g),\n",
    "                         subplot_kw={\"projection\":ccrs.PlateCarree()})\n",
    "\n",
    "for i,tech in enumerate(techs):\n",
    "    i_row = i // n_cols_g\n",
    "    i_col = i % n_cols_g\n",
    "    \n",
    "    ax = axes[i_row,i_col]\n",
    "    \n",
    "    # TASK\n",
    "    gens = ???\n",
    "    gen_distribution = gens.???\n",
    "    \n",
    "    network.plot(ax=ax,\n",
    "                 bus_sizes=0.2*gen_distribution,\n",
    "                 bus_colors='navy',\n",
    "                 line_colors='firebrick',\n",
    "                 color_geomap=True)\n",
    "    \n",
    "    ax.set_title(tech)"
   ]
  },
  {
   "cell_type": "markdown",
   "metadata": {},
   "source": [
    "***\n",
    "## (b) Run a linear optimal power flow to obtain the economic dispatch and analyse the results."
   ]
  },
  {
   "cell_type": "markdown",
   "metadata": {},
   "source": [
    "### (b)-(i) | To approximate n-1 security and allow room for reactive power flows, set the maximum line loading of any line in the network to 70 % of their thermal rating."
   ]
  },
  {
   "cell_type": "code",
   "execution_count": null,
   "metadata": {},
   "outputs": [],
   "source": [
    "# TASK\n",
    "???"
   ]
  },
  {
   "cell_type": "code",
   "execution_count": null,
   "metadata": {},
   "outputs": [],
   "source": [
    "# set the initial state of charge to zero\n",
    "network.storage_units.state_of_charge_initial = 0.\n",
    "\n",
    "for i in range(int(24/group_size)):\n",
    "    \n",
    "    \n",
    "    if i>0:\n",
    "        # set the initial state of charge based on previous round\n",
    "        network.storage_units.state_of_charge_initial = network.storage_units_t.state_of_charge.loc[network.snapshots[group_size*i-1]]\n",
    "        \n",
    "    # solve linear optimal power flow\n",
    "    network.lopf(network.snapshots[group_size*i:group_size*i+group_size],\n",
    "                 solver_name=solver_name)\n",
    "    \n",
    "    # update line capacities\n",
    "    network.lines.s_nom = network.lines.s_nom_opt"
   ]
  },
  {
   "cell_type": "markdown",
   "metadata": {},
   "source": [
    "### (b)-(ii) | Plot the hourly dispatch grouped by carrier for the chosen day. Comment on what you see."
   ]
  },
  {
   "cell_type": "code",
   "execution_count": null,
   "metadata": {},
   "outputs": [],
   "source": [
    "# TASK\n",
    "p_by_carrier = ???\n",
    "\n",
    "#reorder\n",
    "cols = ['Nuclear', 'Run of River', 'Brown Coal', 'Hard Coal', 'Gas',\n",
    "        'Storage Hydro', 'Waste', 'Wind Offshore', 'Wind Onshore', 'Solar']\n",
    "p_by_carrier = p_by_carrier[cols]\n",
    "p_by_carrier_gw = p_by_carrier / 1e3 # convert MW to GW\n",
    "\n",
    "colors = {\"Brown Coal\" : \"sienna\",\n",
    "          \"Hard Coal\" : \"dimgrey\",\n",
    "          \"Nuclear\" : \"deeppink\",\n",
    "          \"Run of River\" : \"lightseagreen\",\n",
    "          \"Wind Onshore\" : \"navy\",\n",
    "          \"Solar\" : \"gold\",\n",
    "          \"Wind Offshore\" : \"royalblue\",\n",
    "          \"Gas\" : \"darkorange\",\n",
    "          \"Waste\" : \"forestgreen\",\n",
    "          \"Storage Hydro\" : \"darkmagenta\"\n",
    "          }\n",
    "\n",
    "fig, ax = plt.subplots(figsize=(16,8))\n",
    "\n",
    "p_by_carrier_gw.plot(\n",
    "    kind=\"area\",\n",
    "    ax=ax,\n",
    "    linewidth=0,\n",
    "    color=[colors[col] for col in p_by_carrier.columns]\n",
    ")\n",
    "\n",
    "ax.legend(ncol=5, loc=\"upper left\")\n",
    "\n",
    "ax.set_ylabel(\"GW\")\n",
    "\n",
    "ax.set_ylim(0,100);"
   ]
  },
  {
   "cell_type": "markdown",
   "metadata": {},
   "source": [
    "### (b)-(iii) | Plot the aggregate dispatch of the pumped hydro storage units and the state of charge throughout the day and describe how they are used throughout the day. "
   ]
  },
  {
   "cell_type": "code",
   "execution_count": null,
   "metadata": {
    "scrolled": false
   },
   "outputs": [],
   "source": [
    "fig, ax = plt.subplots(figsize=(12,6))\n",
    "\n",
    "# TASK\n",
    "p_storage = ???\n",
    "state_of_chage = ???\n",
    "\n",
    "p_storage.plot(label=\"Pumped hydro dispatch\", ax=ax)\n",
    "state_of_charge.plot(label=\"State of charge\", ax=ax)\n",
    "\n",
    "ax.legend()\n",
    "ax.set_ylabel(\"MWh\")"
   ]
  },
  {
   "cell_type": "markdown",
   "metadata": {},
   "source": [
    "### (b)-(iv) |  Show the line loadings for different snapshots on the network. Can you identify a regional concentration of highly loaded branches?"
   ]
  },
  {
   "cell_type": "code",
   "execution_count": null,
   "metadata": {
    "scrolled": false
   },
   "outputs": [],
   "source": [
    "fig, axes = plt.subplots(nrows=n_rows, ncols=n_cols,\n",
    "                         figsize=(size*n_cols,size*n_rows),\n",
    "                         subplot_kw={\"projection\":ccrs.PlateCarree()})\n",
    "\n",
    "for i,timestep in enumerate(timesteps):\n",
    "    i_row = i // n_cols\n",
    "    i_col = i % n_cols\n",
    "    \n",
    "    ax = axes[i_row,i_col]\n",
    "    \n",
    "    # TASK\n",
    "    loading = ???\n",
    "    \n",
    "    network.plot(ax=ax,\n",
    "                 line_colors=abs(loading),\n",
    "                 line_cmap=plt.cm.viridis,\n",
    "                 title=\"Line loading\",\n",
    "                 bus_sizes=0,\n",
    "                 color_geomap=True)\n",
    "    \n",
    "    ax.set_title(timestep)"
   ]
  },
  {
   "cell_type": "markdown",
   "metadata": {},
   "source": [
    "### (b)-(v) |  Plot the locational marginal prices for snapshots on the network. What is the interpretation of high and low marginal prices? What do the geographical differences of nodal prices tell you about the regional generation capacity, load centres and the state of the transmission network?"
   ]
  },
  {
   "cell_type": "code",
   "execution_count": null,
   "metadata": {},
   "outputs": [],
   "source": [
    "fig, axes = plt.subplots(nrows=n_rows, ncols=n_cols,\n",
    "                         figsize=(size*n_cols,size*n_rows),\n",
    "                         subplot_kw={\"projection\":ccrs.PlateCarree()})\n",
    "\n",
    "for i,timestep in enumerate(timesteps):\n",
    "    i_row = i // n_cols\n",
    "    i_col = i % n_cols\n",
    "    \n",
    "    ax = axes[i_row,i_col]\n",
    "    \n",
    "    network.plot(ax=ax,\n",
    "                 line_widths=pd.Series(0.5,network.lines.index),\n",
    "                 bus_sizes=0,\n",
    "                 line_colors='firebrick',\n",
    "                 color_geomap=True)\n",
    "    \n",
    "    # TASK\n",
    "    marginal_prices = ???\n",
    "\n",
    "    hb = ax.hexbin(\n",
    "            network.buses.x,\n",
    "            network.buses.y, \n",
    "            gridsize=20,\n",
    "            C=marginal_prices,\n",
    "            cmap=plt.cm.viridis\n",
    "         )\n",
    "    \n",
    "    ax.set_title(timestep)\n",
    "\n",
    "cb = fig.colorbar(hb, ax=axes.ravel().tolist())\n",
    "\n",
    "mini = network.buses_t.marginal_price.min().min()\n",
    "maxi = network.buses_t.marginal_price.max().max()\n",
    "\n",
    "cb.set_label('Locational Marginal Price (EUR/MWh)') "
   ]
  },
  {
   "cell_type": "markdown",
   "metadata": {},
   "source": [
    "LMP statistics:"
   ]
  },
  {
   "cell_type": "code",
   "execution_count": null,
   "metadata": {},
   "outputs": [],
   "source": []
  },
  {
   "cell_type": "code",
   "execution_count": null,
   "metadata": {},
   "outputs": [],
   "source": []
  },
  {
   "cell_type": "code",
   "execution_count": null,
   "metadata": {},
   "outputs": [],
   "source": []
  },
  {
   "cell_type": "markdown",
   "metadata": {},
   "source": [
    "### (b)-(vi) |  In general, when is variable renewable electricity curtailed? Plot the curtailment for on- and offshore wind as well as for solar energy on the chosen day. Would there still be curtailment if there were unlimited transmission capacity? What happens to the nodal prices in this case?"
   ]
  },
  {
   "cell_type": "markdown",
   "metadata": {},
   "source": [
    "> **Hint:** For testing what would happen if there were unlimited transmission capacity, set the cost associated with transmission expansion to zero and rerun LOPF."
   ]
  },
  {
   "cell_type": "code",
   "execution_count": null,
   "metadata": {},
   "outputs": [],
   "source": [
    "carriers =  [\"Wind Onshore\", \"Wind Offshore\", \"Solar\"]\n",
    "\n",
    "n_graphs_g = len(carriers)\n",
    "n_cols_g = 3\n",
    "n_rows_g = 1\n",
    "size_g = 6\n",
    "   \n",
    "fig, axes = plt.subplots(nrows=n_rows_g, ncols=n_cols_g,\n",
    "                        figsize=(size_g*n_cols_g,size_g*n_rows_g))\n",
    "\n",
    "for i,carrier in enumerate(carriers):\n",
    "    i_col = i % n_cols_g\n",
    "    \n",
    "    ax = axes[i_col]\n",
    "    \n",
    "    capacity = network.generators.groupby(\"carrier\").sum().at[carrier,\"p_nom\"]\n",
    "\n",
    "    # TASK\n",
    "    p_available = ???\n",
    "    p_available_by_carrier = ???\n",
    "    p_curtailed_by_carrier = ???\n",
    "\n",
    "    p_df = pd.DataFrame({carrier + \" available\" : p_available_by_carrier[carrier],\n",
    "                         carrier + \" dispatched\" : p_by_carrier[carrier],\n",
    "                         carrier + \" curtailed\" : p_curtailed_by_carrier[carrier]})\n",
    "\n",
    "    p_df[carrier + \" capacity\"] = capacity\n",
    "\n",
    "    p_df[carrier + \" curtailed\"][p_df[carrier + \" curtailed\"] < 0.] = 0.\n",
    "\n",
    "    (p_df[[carrier + \" dispatched\",carrier + \" curtailed\"]]/1e3).plot(kind=\"area\",ax=ax,linewidth=0)\n",
    "    (p_df[[carrier + \" available\",carrier + \" capacity\"]]/1e3).plot(ax=ax,linewidth=2)\n",
    "\n",
    "    ax.set_xlabel(\"\")\n",
    "    ax.set_ylabel(\"Power [GW]\")\n",
    "    ax.legend()\n",
    "    \n",
    "    ax.set_title(carrier)"
   ]
  },
  {
   "cell_type": "markdown",
   "metadata": {},
   "source": [
    "***\n",
    "## (c) Perform a non-linear power flow (Newton-Raphson) on the injections determined by the linear optimal power flow."
   ]
  },
  {
   "cell_type": "markdown",
   "metadata": {},
   "source": [
    "> **Remark:** You can use the function `network.pf()`. In case you are interested, you can find a description of the Newton-Raphson load flow algorithm [here](http://nptel.ac.in/courses/Webcourse-contents/IIT-KANPUR/power-system/chapter_4/4_10.html). However, you will not need it for the exam."
   ]
  },
  {
   "cell_type": "markdown",
   "metadata": {},
   "source": [
    "For the non-linear power flow, we set the P to the optimised P from the linear optimal power flow."
   ]
  },
  {
   "cell_type": "code",
   "execution_count": null,
   "metadata": {},
   "outputs": [],
   "source": [
    "network.generators_t.p_set = network.generators_t.p_set.reindex(columns=network.generators.index)\n",
    "network.generators_t.p_set = network.generators_t.p"
   ]
  },
  {
   "cell_type": "markdown",
   "metadata": {},
   "source": [
    "Further, we set all buses to PV, since we do not know what the Q set points are."
   ]
  },
  {
   "cell_type": "code",
   "execution_count": null,
   "metadata": {},
   "outputs": [],
   "source": [
    "network.generators.control = \"PV\""
   ]
  },
  {
   "cell_type": "markdown",
   "metadata": {},
   "source": [
    "But we need some PQ buses so that the Jacobian does not break"
   ]
  },
  {
   "cell_type": "code",
   "execution_count": null,
   "metadata": {},
   "outputs": [],
   "source": [
    "f = network.generators[network.generators.bus == \"492\"]\n",
    "network.generators.loc[f.index,\"control\"] = \"PQ\""
   ]
  },
  {
   "cell_type": "markdown",
   "metadata": {},
   "source": [
    "Perform non-linear PF on the results of linear optimal power flow (LOPF)."
   ]
  },
  {
   "cell_type": "code",
   "execution_count": null,
   "metadata": {},
   "outputs": [],
   "source": [
    "info = network.pf()"
   ]
  },
  {
   "cell_type": "markdown",
   "metadata": {},
   "source": [
    "### (c)-(i) | Plot the regional and temporal distribution of reactive power feed-in. What is the consequence of reactive flows in terms of the network's transfer capacity?"
   ]
  },
  {
   "cell_type": "code",
   "execution_count": null,
   "metadata": {},
   "outputs": [],
   "source": [
    "fig, axes = plt.subplots(nrows=n_rows, ncols=n_cols,\n",
    "                         figsize=(size*n_cols,size*n_rows),\n",
    "                         subplot_kw={\"projection\":ccrs.PlateCarree()})\n",
    "\n",
    "for i,timestep in enumerate(timesteps):\n",
    "    i_row = i // n_cols\n",
    "    i_col = i % n_cols\n",
    "    \n",
    "    ax = axes[i_row,i_col]\n",
    "    \n",
    "    # TASK\n",
    "    q = ???\n",
    "    \n",
    "    bus_colors = pd.Series(\"firebrick\", network.buses.index)\n",
    "    bus_colors[q<0.] = \"navy\"\n",
    "    \n",
    "    network.plot(ax=ax,\n",
    "                 bus_sizes=abs(q),\n",
    "                 bus_colors=bus_colors,\n",
    "                 title=\"Reactive power feed-in (red=+ve, blue=-ve)\",\n",
    "                 line_colors='grey',\n",
    "                 color_geomap=True)\n",
    "    \n",
    "    ax.set_title(timestep)"
   ]
  },
  {
   "cell_type": "markdown",
   "metadata": {},
   "source": [
    "### (c)-(ii) | Analyse whether the chosen security constraint for thermal line loading  was sufficient. What happens if you omit the security constraint or require an even higher security constraint?"
   ]
  },
  {
   "cell_type": "markdown",
   "metadata": {},
   "source": [
    "> **Hint:** Using a histogram might be a good option to visualise the distribution of maximum line loadings."
   ]
  },
  {
   "cell_type": "code",
   "execution_count": null,
   "metadata": {},
   "outputs": [],
   "source": [
    "# TASK\n",
    "???"
   ]
  },
  {
   "cell_type": "code",
   "execution_count": null,
   "metadata": {},
   "outputs": [],
   "source": [
    "# TASK \n",
    "???"
   ]
  }
 ],
 "metadata": {
  "kernelspec": {
   "display_name": "Python 3",
   "language": "python",
   "name": "python3"
  },
  "language_info": {
   "codemirror_mode": {
    "name": "ipython",
    "version": 3
   },
   "file_extension": ".py",
   "mimetype": "text/x-python",
   "name": "python",
   "nbconvert_exporter": "python",
   "pygments_lexer": "ipython3",
   "version": "3.8.2"
  },
  "varInspector": {
   "cols": {
    "lenName": 16,
    "lenType": 16,
    "lenVar": 40
   },
   "kernels_config": {
    "python": {
     "delete_cmd_postfix": "",
     "delete_cmd_prefix": "del ",
     "library": "var_list.py",
     "varRefreshCmd": "print(var_dic_list())"
    },
    "r": {
     "delete_cmd_postfix": ") ",
     "delete_cmd_prefix": "rm(",
     "library": "var_list.r",
     "varRefreshCmd": "cat(var_dic_list()) "
    }
   },
   "types_to_exclude": [
    "module",
    "function",
    "builtin_function_or_method",
    "instance",
    "_Feature"
   ],
   "window_display": false
  }
 },
 "nbformat": 4,
 "nbformat_minor": 2
}
